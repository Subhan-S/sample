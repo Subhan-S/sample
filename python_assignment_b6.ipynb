{
  "cells": [
    {
      "cell_type": "markdown",
      "metadata": {
        "id": "view-in-github",
        "colab_type": "text"
      },
      "source": [
        "<a href=\"https://colab.research.google.com/github/Subhan-S/sample/blob/main/python_assignment_b6.ipynb\" target=\"_parent\"><img src=\"https://colab.research.google.com/assets/colab-badge.svg\" alt=\"Open In Colab\"/></a>"
      ]
    },
    {
      "cell_type": "markdown",
      "id": "d2328cad",
      "metadata": {
        "id": "d2328cad"
      },
      "source": [
        "# Python Basics Assignment"
      ]
    },
    {
      "cell_type": "markdown",
      "id": "cb537954",
      "metadata": {
        "id": "cb537954"
      },
      "source": [
        "### Question 1\n",
        "Write a function to compute number of vowels in a string given as input"
      ]
    },
    {
      "cell_type": "code",
      "execution_count": 5,
      "id": "cf213ba2",
      "metadata": {
        "colab": {
          "base_uri": "https://localhost:8080/"
        },
        "id": "cf213ba2",
        "outputId": "b0168b94-47a9-4402-c79e-3fbab51436e8"
      },
      "outputs": [
        {
          "output_type": "stream",
          "name": "stdout",
          "text": [
            "10\n"
          ]
        }
      ],
      "source": [
        "def count_vowels(s):\n",
        "    vowels = \"aeiouAEIOU\"\n",
        "    count = 0\n",
        "    for char in s:\n",
        "        if char in vowels:\n",
        "            count += 1\n",
        "    return count\n",
        "text = \"Hello, how many vowels are here?\"\n",
        "print(count_vowels(text))\n"
      ]
    },
    {
      "cell_type": "markdown",
      "id": "4eaff430",
      "metadata": {
        "id": "4eaff430"
      },
      "source": [
        "### Question 2\n",
        "Write a function that checks whether a number is prime."
      ]
    },
    {
      "cell_type": "code",
      "execution_count": 7,
      "id": "81934cf7",
      "metadata": {
        "colab": {
          "base_uri": "https://localhost:8080/"
        },
        "id": "81934cf7",
        "outputId": "1de93167-e3ce-4e02-e085-829c9802f1fc"
      },
      "outputs": [
        {
          "output_type": "stream",
          "name": "stdout",
          "text": [
            "True\n",
            "False\n",
            "False\n"
          ]
        }
      ],
      "source": [
        "def is_prime(n):\n",
        "    if n <= 1:\n",
        "        return False\n",
        "    for i in range(2, int(n**0.5) + 1):\n",
        "        if n % i == 0:\n",
        "            return False\n",
        "    return True\n",
        "print(is_prime(7))\n",
        "print(is_prime(10))\n",
        "print(is_prime(1))\n"
      ]
    },
    {
      "cell_type": "markdown",
      "id": "5f061e50",
      "metadata": {
        "id": "5f061e50"
      },
      "source": [
        "### Question 3\n",
        "Write a function to return the maximum of two numbers."
      ]
    },
    {
      "cell_type": "code",
      "execution_count": 8,
      "id": "44e2a596",
      "metadata": {
        "colab": {
          "base_uri": "https://localhost:8080/"
        },
        "id": "44e2a596",
        "outputId": "29464d7e-7abb-4c29-beef-d33f3515af03"
      },
      "outputs": [
        {
          "output_type": "stream",
          "name": "stdout",
          "text": [
            "10\n"
          ]
        }
      ],
      "source": [
        "def maximum(a, b):\n",
        "    if a > b:\n",
        "        return a\n",
        "    else:\n",
        "        return b\n",
        "def maximum(a, b):\n",
        "    return max(a, b)\n",
        "print(maximum(5, 10))\n"
      ]
    },
    {
      "cell_type": "markdown",
      "id": "7513ca91",
      "metadata": {
        "id": "7513ca91"
      },
      "source": [
        "### Question 4\n",
        "Write a function to return the factorial of a number."
      ]
    },
    {
      "cell_type": "code",
      "execution_count": 9,
      "id": "6617842f",
      "metadata": {
        "colab": {
          "base_uri": "https://localhost:8080/"
        },
        "id": "6617842f",
        "outputId": "48d8076b-97a7-431c-a867-3e2e870ab48a"
      },
      "outputs": [
        {
          "output_type": "stream",
          "name": "stdout",
          "text": [
            "120\n"
          ]
        }
      ],
      "source": [
        "def factorial(n):\n",
        "    if n == 0:\n",
        "        return 1\n",
        "    else:\n",
        "        return n * factorial(n-1)\n",
        "\n",
        "print(factorial(5))\n"
      ]
    },
    {
      "cell_type": "markdown",
      "id": "9b942098",
      "metadata": {
        "id": "9b942098"
      },
      "source": [
        "### Question 5\n",
        "Write a function to reverse a string without string indexing."
      ]
    },
    {
      "cell_type": "code",
      "execution_count": 43,
      "id": "d606b194",
      "metadata": {
        "colab": {
          "base_uri": "https://localhost:8080/",
          "height": 54
        },
        "id": "d606b194",
        "outputId": "adcc794b-9963-4884-f7d9-fb30e6cb96b3"
      },
      "outputs": [
        {
          "output_type": "stream",
          "name": "stdout",
          "text": [
            "olleh\n"
          ]
        },
        {
          "output_type": "execute_result",
          "data": {
            "text/plain": [
              "'yeh'"
            ],
            "application/vnd.google.colaboratory.intrinsic+json": {
              "type": "string"
            }
          },
          "metadata": {},
          "execution_count": 43
        }
      ],
      "source": [
        "def reverse_string_no_indexing(s):\n",
        "  reversed_string = \"\"\n",
        "  for char in s:\n",
        "    reversed_string = char + reversed_string\n",
        "  return reversed_string\n",
        "\n",
        "my_string = \"hello\"\n",
        "reversed_string = reverse_string_no_indexing(my_string)\n",
        "print(reversed_string)\n",
        "\n",
        "my_string = \"hey\"\n",
        "reversed_string = reverse_string_no_indexing(my_string)\n",
        "reversed_string\n"
      ]
    },
    {
      "cell_type": "markdown",
      "id": "1abd915b",
      "metadata": {
        "id": "1abd915b"
      },
      "source": [
        "### Question 6\n",
        "Write a function to check if a string is a palindrome."
      ]
    },
    {
      "cell_type": "code",
      "execution_count": 41,
      "id": "2b868fb3",
      "metadata": {
        "colab": {
          "base_uri": "https://localhost:8080/"
        },
        "id": "2b868fb3",
        "outputId": "cd36287f-9b76-4793-ec1f-dee63b448199"
      },
      "outputs": [
        {
          "output_type": "stream",
          "name": "stdout",
          "text": [
            "False\n",
            "False\n"
          ]
        }
      ],
      "source": [
        "def is_palindrome(s):\n",
        "  s = s.lower().replace(\" \", \"\")\n",
        "  return s == s[::-1]\n",
        "\n",
        "print(is_palindrome(\"Enthaai Machaaneey!!\"))\n",
        "print(is_palindrome(\"hey Bro\"))"
      ]
    },
    {
      "cell_type": "markdown",
      "id": "5f2f3791",
      "metadata": {
        "id": "5f2f3791"
      },
      "source": [
        "### Question 7\n",
        "Write a function to count vowels in a string."
      ]
    },
    {
      "cell_type": "code",
      "execution_count": 38,
      "id": "73fefa50",
      "metadata": {
        "colab": {
          "base_uri": "https://localhost:8080/"
        },
        "id": "73fefa50",
        "outputId": "8a372b13-bec1-4496-9370-c4ee3c6c0d83"
      },
      "outputs": [
        {
          "output_type": "stream",
          "name": "stdout",
          "text": [
            "7\n"
          ]
        }
      ],
      "source": [
        "def count_vowels(s):\n",
        "  vowels = \"aeiouAEIOU\"\n",
        "  count = 0\n",
        "  for char in s:\n",
        "    if char in vowels:\n",
        "      count += 1\n",
        "  return count\n",
        "\n",
        "text = \"Johney Johney yes Papa\"\n",
        "print(count_vowels(text))"
      ]
    },
    {
      "cell_type": "markdown",
      "id": "0d3a9996",
      "metadata": {
        "id": "0d3a9996"
      },
      "source": [
        "### Question 8\n",
        "Write a function that returns the sum of a list."
      ]
    },
    {
      "cell_type": "code",
      "execution_count": 20,
      "id": "ab6afc66",
      "metadata": {
        "colab": {
          "base_uri": "https://localhost:8080/"
        },
        "id": "ab6afc66",
        "outputId": "4076f748-d807-4e6c-ac24-4feb4d63ca57"
      },
      "outputs": [
        {
          "output_type": "stream",
          "name": "stdout",
          "text": [
            "15\n"
          ]
        }
      ],
      "source": [
        "def sum_of_list(numbers):\n",
        "  total = 0\n",
        "  for number in numbers:\n",
        "    total += number\n",
        "  return total\n",
        "\n",
        "my_list = [1, 2, 3, 4, 5]\n",
        "print(sum_of_list(my_list))"
      ]
    },
    {
      "cell_type": "markdown",
      "id": "f6682500",
      "metadata": {
        "id": "f6682500"
      },
      "source": [
        "### Question 9\n",
        "Write a function to find the smallest number in a list."
      ]
    },
    {
      "cell_type": "code",
      "execution_count": 21,
      "id": "6798a641",
      "metadata": {
        "colab": {
          "base_uri": "https://localhost:8080/"
        },
        "id": "6798a641",
        "outputId": "f4d7ef4c-601f-4e0a-f76a-027a6cdeb5ff"
      },
      "outputs": [
        {
          "output_type": "stream",
          "name": "stdout",
          "text": [
            "1\n",
            "None\n"
          ]
        }
      ],
      "source": [
        "def find_smallest(numbers):\n",
        "  if not numbers:\n",
        "    return None\n",
        "  smallest = numbers[0]\n",
        "  for number in numbers:\n",
        "    if number < smallest:\n",
        "      smallest = number\n",
        "  return smallest\n",
        "\n",
        "my_list = [10, 4, 25, 1, 8]\n",
        "print(find_smallest(my_list))\n",
        "my_list = []\n",
        "print(find_smallest(my_list))"
      ]
    },
    {
      "cell_type": "markdown",
      "id": "fb11e683",
      "metadata": {
        "id": "fb11e683"
      },
      "source": [
        "### Question 10\n",
        "Write a function to remove duplicates from a list."
      ]
    },
    {
      "cell_type": "code",
      "execution_count": 23,
      "id": "7c53f88c",
      "metadata": {
        "colab": {
          "base_uri": "https://localhost:8080/"
        },
        "id": "7c53f88c",
        "outputId": "8043b46e-fa42-4fed-fb28-64c3e651e482"
      },
      "outputs": [
        {
          "output_type": "stream",
          "name": "stdout",
          "text": [
            "[1, 2, 3, 4, 5]\n",
            "['banana', 'apple', 'orange']\n"
          ]
        }
      ],
      "source": [
        "def remove_duplicates(input_list):\n",
        "  return list(set(input_list))\n",
        "\n",
        "my_list = [1, 2, 2, 3, 4, 4, 5]\n",
        "print(remove_duplicates(my_list))\n",
        "\n",
        "my_list = [\"apple\", \"banana\", \"apple\", \"orange\"]\n",
        "print(remove_duplicates(my_list))"
      ]
    },
    {
      "cell_type": "markdown",
      "id": "9c380a5c",
      "metadata": {
        "id": "9c380a5c"
      },
      "source": [
        "### Question 11\n",
        "Write a function to sort a list in ascending order without using builtin sort function"
      ]
    },
    {
      "cell_type": "code",
      "execution_count": 27,
      "id": "8e43832f",
      "metadata": {
        "colab": {
          "base_uri": "https://localhost:8080/"
        },
        "id": "8e43832f",
        "outputId": "ae7afaa1-a2d6-4cd1-e245-556f462da4d8"
      },
      "outputs": [
        {
          "output_type": "stream",
          "name": "stdout",
          "text": [
            "[11, 12, 22, 25, 34, 64, 90]\n"
          ]
        }
      ],
      "source": [
        "def manual_sort(input_list):\n",
        "  n = len(input_list)\n",
        "  for i in range(n):\n",
        "    for j in range(0, n - i - 1):\n",
        "      if input_list[j] > input_list[j + 1]:\n",
        "        input_list[j], input_list[j + 1] = input_list[j + 1], input_list[j]\n",
        "  return input_list\n",
        "\n",
        "my_list = [64, 34, 25, 12, 22, 11, 90]\n",
        "print(manual_sort(my_list))"
      ]
    },
    {
      "cell_type": "markdown",
      "id": "1270c91c",
      "metadata": {
        "id": "1270c91c"
      },
      "source": [
        "### Question 12\n",
        "Write a function that returns the length of a string."
      ]
    },
    {
      "cell_type": "code",
      "execution_count": 33,
      "id": "87f35472",
      "metadata": {
        "colab": {
          "base_uri": "https://localhost:8080/"
        },
        "id": "87f35472",
        "outputId": "8b7cbdeb-6c2c-4660-fb3a-86d3c3b89de1"
      },
      "outputs": [
        {
          "output_type": "stream",
          "name": "stdout",
          "text": [
            "20\n"
          ]
        }
      ],
      "source": [
        "def string_length(s):\n",
        "  return len(s)\n",
        "\n",
        "my_string = \"India is my country.\"\n",
        "print(string_length(my_string))"
      ]
    },
    {
      "cell_type": "markdown",
      "id": "9a8e3d28",
      "metadata": {
        "id": "9a8e3d28"
      },
      "source": [
        "### Question 13\n",
        "Write a function to count words in a sentence."
      ]
    },
    {
      "cell_type": "code",
      "execution_count": 37,
      "id": "e6f996ef",
      "metadata": {
        "colab": {
          "base_uri": "https://localhost:8080/"
        },
        "id": "e6f996ef",
        "outputId": "ea2dbd79-c9bb-4234-be84-10efd1c0b839"
      },
      "outputs": [
        {
          "output_type": "stream",
          "name": "stdout",
          "text": [
            "The sentence has 4 words.\n",
            "The sentence has 7 words.\n"
          ]
        }
      ],
      "source": [
        "def count_words(sentence):\n",
        "  words = sentence.split()\n",
        "  return len(words)\n",
        "\n",
        "my_sentence = \"India is my Country.\"\n",
        "word_count = count_words(my_sentence)\n",
        "print(f\"The sentence has {word_count} words.\")\n",
        "\n",
        "my_sentence = \"All Indians are my brothers and sisters\"\n",
        "word_count = count_words(my_sentence)\n",
        "print(f\"The sentence has {word_count} words.\")\n"
      ]
    },
    {
      "cell_type": "markdown",
      "id": "430c2e4a",
      "metadata": {
        "id": "430c2e4a"
      },
      "source": [
        "### Question 14\n",
        "Write a function to convert Celsius to Fahrenheit."
      ]
    },
    {
      "cell_type": "code",
      "execution_count": 34,
      "id": "b710b0bd",
      "metadata": {
        "id": "b710b0bd"
      },
      "outputs": [],
      "source": []
    },
    {
      "cell_type": "markdown",
      "id": "acefe5e3",
      "metadata": {
        "id": "acefe5e3"
      },
      "source": [
        "### Question 15\n",
        "Write a function to check if a number is palindrome."
      ]
    },
    {
      "cell_type": "code",
      "execution_count": 44,
      "id": "b700abae",
      "metadata": {
        "colab": {
          "base_uri": "https://localhost:8080/"
        },
        "id": "b700abae",
        "outputId": "7e1daea9-a355-4982-8292-fc47e447165a"
      },
      "outputs": [
        {
          "output_type": "stream",
          "name": "stdout",
          "text": [
            "True\n",
            "False\n"
          ]
        }
      ],
      "source": [
        "\n",
        "def is_number_palindrome(n):\n",
        "  return str(n) == str(n)[::-1]\n",
        "\n",
        "print(is_number_palindrome(121))\n",
        "print(is_number_palindrome(123))"
      ]
    },
    {
      "cell_type": "markdown",
      "id": "b63452cb",
      "metadata": {
        "id": "b63452cb"
      },
      "source": [
        "### Question 16\n",
        "Write a function to return all even numbers in a list."
      ]
    },
    {
      "cell_type": "code",
      "execution_count": 47,
      "id": "9d1fc968",
      "metadata": {
        "colab": {
          "base_uri": "https://localhost:8080/"
        },
        "id": "9d1fc968",
        "outputId": "97c4c385-b2c3-49ec-9168-742438a90b55"
      },
      "outputs": [
        {
          "output_type": "stream",
          "name": "stdout",
          "text": [
            "[2, 4, 6, 8, 10]\n"
          ]
        },
        {
          "output_type": "execute_result",
          "data": {
            "text/plain": [
              "[]"
            ]
          },
          "metadata": {},
          "execution_count": 47
        }
      ],
      "source": [
        "def get_even_numbers(numbers):\n",
        "\n",
        "  even_numbers = []\n",
        "  for number in numbers:\n",
        "    if number % 2 == 0:\n",
        "      even_numbers.append(number)\n",
        "  return even_numbers\n",
        "\n",
        "my_list = [1, 2, 3, 4, 5, 6, 7, 8, 9, 10]\n",
        "even_list = get_even_numbers(my_list)\n",
        "print(even_list)\n",
        "\n",
        "my_list = [1, 3, 5, 7, 9]\n",
        "even_list = get_even_numbers(my_list)\n",
        "even_list\n"
      ]
    },
    {
      "cell_type": "markdown",
      "id": "aca524d9",
      "metadata": {
        "id": "aca524d9"
      },
      "source": [
        "### Question 17\n",
        "Write a function to return the nth Fibonacci number."
      ]
    },
    {
      "cell_type": "code",
      "execution_count": 46,
      "id": "97dc4e87",
      "metadata": {
        "colab": {
          "base_uri": "https://localhost:8080/"
        },
        "id": "97dc4e87",
        "outputId": "1c0bf0f0-ce20-47d6-c31f-37f37f3b55a6"
      },
      "outputs": [
        {
          "output_type": "stream",
          "name": "stdout",
          "text": [
            "13\n",
            "55\n"
          ]
        }
      ],
      "source": [
        "def fibonacci(n):\n",
        "  if n <= 1:\n",
        "    return n\n",
        "  else:\n",
        "    return fibonacci(n - 1) + fibonacci(n - 2)\n",
        "\n",
        "print(fibonacci(7))\n",
        "print(fibonacci(10))\n"
      ]
    },
    {
      "cell_type": "markdown",
      "id": "29c847dc",
      "metadata": {
        "id": "29c847dc"
      },
      "source": [
        "### Question 18\n",
        "Write a function to calculate the average of a list."
      ]
    },
    {
      "cell_type": "code",
      "execution_count": 49,
      "id": "9adc9fd2",
      "metadata": {
        "colab": {
          "base_uri": "https://localhost:8080/"
        },
        "id": "9adc9fd2",
        "outputId": "b22b54f6-21d1-4f89-9919-050d578e5176"
      },
      "outputs": [
        {
          "output_type": "stream",
          "name": "stdout",
          "text": [
            "The average of the list is: 3.0\n"
          ]
        }
      ],
      "source": [
        "# prompt: Write a function to calculate the average of a list\n",
        "\n",
        "def calculate_average(numbers):\n",
        "  if not numbers:\n",
        "    return 0  # Return 0 for an empty list\n",
        "  total = sum(numbers)\n",
        "  return total / len(numbers)\n",
        "\n",
        "my_list = [1, 2, 3, 4, 5]\n",
        "average = calculate_average(my_list)\n",
        "print(f\"The average of the list is: {average}\")"
      ]
    },
    {
      "cell_type": "markdown",
      "id": "420240fb",
      "metadata": {
        "id": "420240fb"
      },
      "source": [
        "### Question 19\n",
        "Write a function that returns a dictionary of character counts."
      ]
    },
    {
      "cell_type": "code",
      "execution_count": 53,
      "id": "95cafc54",
      "metadata": {
        "colab": {
          "base_uri": "https://localhost:8080/"
        },
        "id": "95cafc54",
        "outputId": "6520b701-78df-4b8d-e2ba-a83715ab9770"
      },
      "outputs": [
        {
          "output_type": "execute_result",
          "data": {
            "text/plain": [
              "{'R': 2, 'a': 1, 'h': 1, 'u': 1, 'l': 1, ' ': 1, 'A': 1}"
            ]
          },
          "metadata": {},
          "execution_count": 53
        }
      ],
      "source": [
        "def character_count(s):\n",
        "  char_counts = {}\n",
        "  for char in s:\n",
        "    if char in char_counts:\n",
        "      char_counts[char] += 1\n",
        "    else:\n",
        "      char_counts[char] = 1\n",
        "  return char_counts\n",
        "\n",
        "my_string = \"Rahul AR\"\n",
        "counts = character_count(my_string)\n",
        "counts"
      ]
    },
    {
      "cell_type": "markdown",
      "id": "17629a07",
      "metadata": {
        "id": "17629a07"
      },
      "source": [
        "### Question 20\n",
        "Write a function that returns True if all list elements are unique."
      ]
    },
    {
      "cell_type": "code",
      "execution_count": 54,
      "id": "fe4f8820",
      "metadata": {
        "colab": {
          "base_uri": "https://localhost:8080/"
        },
        "id": "fe4f8820",
        "outputId": "29d55fa4-d650-440f-f572-78c6336cc729"
      },
      "outputs": [
        {
          "output_type": "stream",
          "name": "stdout",
          "text": [
            "False\n"
          ]
        }
      ],
      "source": [
        "def are_all_unique(input_list):\n",
        "  return len(input_list) == len(set(input_list))\n",
        "\n",
        "my_list = [1, 2, 2, 3, 4]\n",
        "print(are_all_unique(my_list))"
      ]
    },
    {
      "cell_type": "markdown",
      "id": "91dc87b9",
      "metadata": {
        "id": "91dc87b9"
      },
      "source": [
        "### Question 21\n",
        "Write a function that returns dot product of two list of numbers"
      ]
    },
    {
      "cell_type": "code",
      "execution_count": 55,
      "id": "87c3fa4b",
      "metadata": {
        "id": "87c3fa4b"
      },
      "outputs": [],
      "source": []
    },
    {
      "cell_type": "markdown",
      "id": "5eeb0527",
      "metadata": {
        "id": "5eeb0527"
      },
      "source": [
        "### Question 22\n",
        "Write a function that returns the projection of vector a onto vector b. Both a and b are given as list of numbers"
      ]
    },
    {
      "cell_type": "code",
      "execution_count": null,
      "id": "d2c2439f",
      "metadata": {
        "id": "d2c2439f"
      },
      "outputs": [],
      "source": []
    },
    {
      "cell_type": "markdown",
      "id": "1410b385",
      "metadata": {
        "id": "1410b385"
      },
      "source": [
        "### Question 23\n",
        "Write a function to return common elements between two lists."
      ]
    },
    {
      "cell_type": "code",
      "execution_count": 56,
      "id": "2cee584c",
      "metadata": {
        "colab": {
          "base_uri": "https://localhost:8080/"
        },
        "id": "2cee584c",
        "outputId": "616412cd-4698-4ab7-d5ed-4f673fa136c4"
      },
      "outputs": [
        {
          "output_type": "stream",
          "name": "stdout",
          "text": [
            "[4, 5]\n",
            "['banana']\n"
          ]
        }
      ],
      "source": [
        "def common_elements(list1, list2):\n",
        "  return list(set(list1) & set(list2))\n",
        "\n",
        "list1 = [1, 2, 3, 4, 5]\n",
        "list2 = [4, 5, 6, 7, 8]\n",
        "print(common_elements(list1, list2))\n",
        "\n",
        "list1 = [\"apple\", \"banana\", \"cherry\"]\n",
        "list2 = [\"banana\", \"date\", \"fig\"]\n",
        "print(common_elements(list1, list2))"
      ]
    },
    {
      "cell_type": "markdown",
      "id": "23ab5210",
      "metadata": {
        "id": "23ab5210"
      },
      "source": [
        "### Question 24\n",
        "Create a class Vector that supports addition, dot product, and magnitude."
      ]
    },
    {
      "cell_type": "code",
      "execution_count": null,
      "id": "f6b18fd7",
      "metadata": {
        "id": "f6b18fd7"
      },
      "outputs": [],
      "source": []
    },
    {
      "cell_type": "markdown",
      "id": "a0621aba",
      "metadata": {
        "id": "a0621aba"
      },
      "source": [
        "### Question 25\n",
        "Implement a function to return all outliers in a list based on the IQR method."
      ]
    },
    {
      "cell_type": "code",
      "execution_count": null,
      "id": "460a8994",
      "metadata": {
        "id": "460a8994"
      },
      "outputs": [],
      "source": []
    },
    {
      "cell_type": "markdown",
      "id": "f0be510e",
      "metadata": {
        "id": "f0be510e"
      },
      "source": [
        "### Question 26\n",
        "Function with default arguments:\n",
        "Create a function to compute variance with an option to use sample or population formula"
      ]
    },
    {
      "cell_type": "code",
      "execution_count": 57,
      "id": "941d732d",
      "metadata": {
        "colab": {
          "base_uri": "https://localhost:8080/"
        },
        "id": "941d732d",
        "outputId": "00beaf3e-6f04-4b02-fc3c-36f44029189f"
      },
      "outputs": [
        {
          "output_type": "stream",
          "name": "stdout",
          "text": [
            "Sample Variance: 2.5\n",
            "Population Variance: 2\n"
          ]
        }
      ],
      "source": [
        "import statistics\n",
        "\n",
        "def compute_variance(data, sample=True):\n",
        "\n",
        "  if sample:\n",
        "    return statistics.variance(data)\n",
        "  else:\n",
        "    return statistics.pvariance(data)\n",
        "\n",
        "# Example usage:\n",
        "my_data = [1, 2, 3, 4, 5]\n",
        "sample_var = compute_variance(my_data)\n",
        "population_var = compute_variance(my_data, sample=False)\n",
        "\n",
        "print(f\"Sample Variance: {sample_var}\")\n",
        "print(f\"Population Variance: {population_var}\")"
      ]
    },
    {
      "cell_type": "markdown",
      "id": "c39be0f1",
      "metadata": {
        "id": "c39be0f1"
      },
      "source": [
        "### Question 27\n",
        "Create a list of squares of even numbers between 1 and 20 using list comprehension."
      ]
    },
    {
      "cell_type": "code",
      "execution_count": 58,
      "id": "9e4ba74a",
      "metadata": {
        "colab": {
          "base_uri": "https://localhost:8080/"
        },
        "id": "9e4ba74a",
        "outputId": "26d550c8-d4e8-4381-9b3f-7bfc4cf7739b"
      },
      "outputs": [
        {
          "output_type": "execute_result",
          "data": {
            "text/plain": [
              "[4, 16, 36, 64, 100, 144, 196, 256, 324, 400]"
            ]
          },
          "metadata": {},
          "execution_count": 58
        }
      ],
      "source": [
        "squares_of_even_numbers = [i**2 for i in range(2, 21, 2)]\n",
        "squares_of_even_numbers\n"
      ]
    },
    {
      "cell_type": "markdown",
      "id": "b43c266d",
      "metadata": {
        "id": "b43c266d"
      },
      "source": [
        "### Question 28\n",
        "Write a function that returns the L1 and L2 norms of a vector given as list"
      ]
    },
    {
      "cell_type": "code",
      "execution_count": null,
      "id": "4f5dc876",
      "metadata": {
        "id": "4f5dc876"
      },
      "outputs": [],
      "source": []
    },
    {
      "cell_type": "markdown",
      "id": "2007915f",
      "metadata": {
        "id": "2007915f"
      },
      "source": [
        "### Question 29\n",
        "Write a function that computes the 95% confidence interval for the mean of a list of numbers assuming normal distribution."
      ]
    },
    {
      "cell_type": "code",
      "execution_count": null,
      "id": "8634dc63",
      "metadata": {
        "id": "8634dc63"
      },
      "outputs": [],
      "source": []
    },
    {
      "cell_type": "markdown",
      "id": "08df3afb",
      "metadata": {
        "id": "08df3afb"
      },
      "source": [
        "### Question 30\n",
        "Given a list of categorical values, create a frequency distribution dictionary."
      ]
    },
    {
      "cell_type": "code",
      "execution_count": 59,
      "id": "c9b88531",
      "metadata": {
        "colab": {
          "base_uri": "https://localhost:8080/"
        },
        "id": "c9b88531",
        "outputId": "30fccbeb-f12c-47db-a6e4-be4181c11e2d"
      },
      "outputs": [
        {
          "output_type": "stream",
          "name": "stdout",
          "text": [
            "{'red': 3, 'blue': 2, 'green': 1}\n"
          ]
        },
        {
          "output_type": "execute_result",
          "data": {
            "text/plain": [
              "{'cat': 3, 'dog': 2, 'bird': 1}"
            ]
          },
          "metadata": {},
          "execution_count": 59
        }
      ],
      "source": [
        "def frequency_distribution(categorical_list):\n",
        "  freq_dist = {}\n",
        "  for item in categorical_list:\n",
        "    if item in freq_dist:\n",
        "      freq_dist[item] += 1\n",
        "    else:\n",
        "      freq_dist[item] = 1\n",
        "  return freq_dist\n",
        "\n",
        "my_categories = [\"red\", \"blue\", \"green\", \"red\", \"blue\", \"red\"]\n",
        "distribution = frequency_distribution(my_categories)\n",
        "print(distribution)\n",
        "\n",
        "my_categories = [\"cat\", \"dog\", \"cat\", \"bird\", \"dog\", \"cat\"]\n",
        "distribution = frequency_distribution(my_categories)\n",
        "distribution"
      ]
    }
  ],
  "metadata": {
    "language_info": {
      "name": "python"
    },
    "colab": {
      "provenance": [],
      "include_colab_link": true
    },
    "kernelspec": {
      "name": "python3",
      "display_name": "Python 3"
    }
  },
  "nbformat": 4,
  "nbformat_minor": 5
}